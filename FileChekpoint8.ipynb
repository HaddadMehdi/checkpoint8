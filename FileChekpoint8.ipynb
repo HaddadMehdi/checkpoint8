{
 "cells": [
  {
   "cell_type": "code",
   "execution_count": 4,
   "id": "a5b4d94a-2a87-43d6-9fa9-be9b48a2b25a",
   "metadata": {},
   "outputs": [],
   "source": [
    "#************* 1)\n",
    "\n",
    "f = open(\"python.txt\")\n"
   ]
  },
  {
   "cell_type": "code",
   "execution_count": 47,
   "id": "e780a372-0155-44a3-991e-7ee3dda75d2f",
   "metadata": {},
   "outputs": [
    {
     "name": "stdout",
     "output_type": "stream",
     "text": [
      "What is Python language?                                                \n",
      "\n",
      "Python is a widely used high-level, general-purpose, interpreted, dynamic programming language.Its design philosophy emphasizes code readability, and its syntax allows programmers to express concepts in fewer lines of code than possible in \n",
      "\n",
      "languages such as C++ or Java. \n",
      "\n"
     ]
    }
   ],
   "source": [
    "#************* 2)\n",
    "\n",
    "with open(\"python.txt\") as myfile:\n",
    "    for ligne in myfile.readlines()[:3]:\n",
    "        print (ligne)\n"
   ]
  },
  {
   "cell_type": "code",
   "execution_count": 48,
   "id": "ee465e76-10d2-4ac7-ba15-436dff4c0c07",
   "metadata": {},
   "outputs": [
    {
     "name": "stdout",
     "output_type": "stream",
     "text": [
      "languages such as C++ or Java. \n",
      "\n",
      "Python supports multiple programming paradigms, including object-oriented, imperative and functional programming or procedural styles. It features a dynamic type system and automatic memory management and has a large and comprehensive standard library.The best way we learn anything is by practice and exercise questions. We  have started this section for those (beginner to intermediate) who are familiar with Python.\n"
     ]
    }
   ],
   "source": [
    "#************* 3)\n",
    "\n",
    "with open(\"python.txt\") as myfile:\n",
    "    for ligne in myfile.readlines()[-2:]:\n",
    "        print (ligne)\n",
    "    "
   ]
  },
  {
   "cell_type": "code",
   "execution_count": 50,
   "id": "482119f3-abdc-434d-b383-c882eed593dc",
   "metadata": {},
   "outputs": [
    {
     "name": "stdout",
     "output_type": "stream",
     "text": [
      "100\n"
     ]
    }
   ],
   "source": [
    "#************* 4)\n",
    "\n",
    "NbreMot=0\n",
    "with open(\"python.txt\") as myfile:\n",
    "    for ligne in myfile.readlines():\n",
    "        liste = ligne.split()\n",
    "        NbreMot+=len(liste)\n",
    "        \n",
    "print(NbreMot)\n",
    "    \n",
    "    \n"
   ]
  },
  {
   "cell_type": "code",
   "execution_count": 49,
   "id": "ff161187-4d7a-499d-9451-3d9561910013",
   "metadata": {},
   "outputs": [
    {
     "name": "stdout",
     "output_type": "stream",
     "text": [
      "languages such as C++ or Java. \n",
      "\n",
      "Python supports multiple programming paradigms, including object-oriented, imperative and functional programming or procedural styles. It features a dynamic type system and automatic memory management and has a large and comprehensive standard library.The best way we learn anything is by practice and exercise questions. We  have started this section for those (beginner to intermediate) who are familiar with Python.\n"
     ]
    }
   ],
   "source": [
    "#************* 5)\n",
    "\n",
    "with open(\"python.txt\") as myfile:\n",
    "    for ligne in myfile.readlines()[-2:]:\n",
    "        print (ligne)"
   ]
  },
  {
   "cell_type": "code",
   "execution_count": null,
   "id": "21686be4-456a-4bae-98ab-eb68d5581aae",
   "metadata": {},
   "outputs": [],
   "source": []
  }
 ],
 "metadata": {
  "kernelspec": {
   "display_name": "Python 3 (ipykernel)",
   "language": "python",
   "name": "python3"
  },
  "language_info": {
   "codemirror_mode": {
    "name": "ipython",
    "version": 3
   },
   "file_extension": ".py",
   "mimetype": "text/x-python",
   "name": "python",
   "nbconvert_exporter": "python",
   "pygments_lexer": "ipython3",
   "version": "3.9.7"
  }
 },
 "nbformat": 4,
 "nbformat_minor": 5
}
